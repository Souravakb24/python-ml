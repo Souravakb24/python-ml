{
 "cells": [
  {
   "cell_type": "code",
   "execution_count": 1,
   "metadata": {},
   "outputs": [
    {
     "data": {
      "text/plain": [
       "[(0, 1),\n",
       " (0, 2),\n",
       " (1, 2),\n",
       " (1, 3),\n",
       " (2, 3),\n",
       " (3, 4),\n",
       " (4, 5),\n",
       " (5, 6),\n",
       " (5, 7),\n",
       " (6, 8),\n",
       " (7, 8),\n",
       " (8, 9)]"
      ]
     },
     "execution_count": 1,
     "metadata": {},
     "output_type": "execute_result"
    }
   ],
   "source": [
    "friendship = [(0,1),(0,2),(1,2),(1,3),(2,3),(3,4),(4,5),(5,6),(5,7),(6,8),(7,8),(8,9)]\n",
    "friendship"
   ]
  },
  {
   "cell_type": "code",
   "execution_count": 2,
   "metadata": {},
   "outputs": [
    {
     "data": {
      "text/plain": [
       "defaultdict(list,\n",
       "            {0: [1, 2],\n",
       "             1: [0, 2, 3],\n",
       "             2: [0, 1, 3],\n",
       "             3: [1, 2, 4],\n",
       "             4: [3, 5],\n",
       "             5: [4, 6, 7],\n",
       "             6: [5, 8],\n",
       "             7: [5, 8],\n",
       "             8: [6, 7, 9],\n",
       "             9: [8]})"
      ]
     },
     "execution_count": 2,
     "metadata": {},
     "output_type": "execute_result"
    }
   ],
   "source": [
    "from collections import defaultdict\n",
    "dict = defaultdict(list)\n",
    "for i,j in friendship:\n",
    "    dict[i].append(j)\n",
    "    dict[j].append(i)\n",
    "\n",
    "dict"
   ]
  },
  {
   "cell_type": "code",
   "execution_count": 3,
   "metadata": {},
   "outputs": [
    {
     "name": "stdout",
     "output_type": "stream",
     "text": [
      "dict_keys([0, 1, 2, 3, 4, 5, 6, 7, 8, 9])\n",
      "dict_values([[1, 2], [0, 2, 3], [0, 1, 3], [1, 2, 4], [3, 5], [4, 6, 7], [5, 8], [5, 8], [6, 7, 9], [8]])\n",
      "dict_items([(0, [1, 2]), (1, [0, 2, 3]), (2, [0, 1, 3]), (3, [1, 2, 4]), (4, [3, 5]), (5, [4, 6, 7]), (6, [5, 8]), (7, [5, 8]), (8, [6, 7, 9]), (9, [8])])\n"
     ]
    }
   ],
   "source": [
    "print(dict.keys())\n",
    "print(dict.values())\n",
    "print(dict.items())"
   ]
  },
  {
   "cell_type": "code",
   "execution_count": 4,
   "metadata": {},
   "outputs": [
    {
     "data": {
      "text/plain": [
       "defaultdict(int, {0: 2, 1: 3, 2: 3, 3: 3, 4: 2, 5: 3, 6: 2, 7: 2, 8: 3, 9: 1})"
      ]
     },
     "execution_count": 4,
     "metadata": {},
     "output_type": "execute_result"
    }
   ],
   "source": [
    "dict_no_friends = defaultdict(int)\n",
    "for i,j in dict.items():\n",
    "    dict_no_friends[i] = len(j)\n",
    "dict_no_friends"
   ]
  },
  {
   "cell_type": "code",
   "execution_count": 5,
   "metadata": {},
   "outputs": [
    {
     "data": {
      "text/plain": [
       "[5, 5, 8, 8]"
      ]
     },
     "execution_count": 5,
     "metadata": {},
     "output_type": "execute_result"
    }
   ],
   "source": [
    "#find who all are the mutual friends of user\n",
    "def findMutual_friends(user):   \n",
    "    mutual = list()\n",
    "    \n",
    "    for k in dict[user]:\n",
    "        for l in dict[k]:\n",
    "            if l!=user and l not in dict[user]:\n",
    "                mutual.append(k)\n",
    "\n",
    "    return mutual\n",
    "\n",
    "findMutual_friends(6)"
   ]
  },
  {
   "cell_type": "code",
   "execution_count": 6,
   "metadata": {},
   "outputs": [
    {
     "data": {
      "text/plain": [
       "Counter({5: 2, 8: 2})"
      ]
     },
     "execution_count": 6,
     "metadata": {},
     "output_type": "execute_result"
    }
   ],
   "source": [
    "#find the no of times a single person is mutual \n",
    "#friends of user\n",
    "# using counter function\n",
    "# counter function takes onlt list, tuples and String\n",
    "from collections import Counter\n",
    "def find_mutual_occurances(user):\n",
    "    return Counter(findMutual_friends(user))\n",
    "\n",
    "find_mutual_occurances(6)"
   ]
  },
  {
   "cell_type": "code",
   "execution_count": 7,
   "metadata": {},
   "outputs": [],
   "source": [
    "interests = [(0, \"Hadoop\"), (0, \"Big Data\"), (0, \"HBase\"), (0,\n",
    "\"Java\"), (0, \"Spark\"), (0, \"Storm\"), (0, \"Cassandra\"), (1,\n",
    "\"NoSQL\"), (1, \"MongoDB\"), (1, \"Cassandra\"), (1, \"HBase\"), (1,\n",
    "\"Postgres\"), (2, \"Python\"), (2, \"scikit-learn\"), (2, \"scipy\"),\n",
    "(2, \"numpy\"), (2, \"statsmodels\"), (2, \"pandas\"), (3, \"R\"), (3,\n",
    "\"Python\"), (3, \"statistics\"), (3, \"regression\"), (3,\n",
    "\"probability\"), (4, \"machine learning\"), (4, \"regression\"),\n",
    "(4, \"decision trees\"), (4, \"libsvm\"), (5, \"Python\"), (5, \"R\"),\n",
    "(5, \"Java\"), (5, \"C++\"), (5, \"Haskell\"), (5, \"programming languages\"),\n",
    " (6, \"statistics\"), (6, \"probability\"), (6,\n",
    "\"mathematics\"), (6, \"theory\"), (7, \"machine learning\"), (7,\n",
    "\"scikit-learn\"), (7, \"Mahout\"), (7, \"neural networks\"), (8,\n",
    "\"neural networks\"), (8, \"deep learning\"), (8, \"Big Data\"), (8,\n",
    "\"artificial intelligence\"), (9, \"Hadoop\"), (9, \"Java\"), (9,\n",
    "\"MapReduce\"), (9, \"Big Data\") ]"
   ]
  },
  {
   "cell_type": "code",
   "execution_count": 8,
   "metadata": {},
   "outputs": [
    {
     "data": {
      "text/plain": [
       "[7, 8]"
      ]
     },
     "execution_count": 8,
     "metadata": {},
     "output_type": "execute_result"
    }
   ],
   "source": [
    "# users with specific interest\n",
    "def find_users(inter):\n",
    "    return [i for i,j in interests if j == inter]\n",
    "find_users(\"neural networks\")"
   ]
  },
  {
   "cell_type": "code",
   "execution_count": 9,
   "metadata": {},
   "outputs": [
    {
     "name": "stdout",
     "output_type": "stream",
     "text": [
      "defaultdict(<class 'list'>, {0: ['Hadoop', 'Big Data', 'HBase', 'Java', 'Spark', 'Storm', 'Cassandra'], 1: ['NoSQL', 'MongoDB', 'Cassandra', 'HBase', 'Postgres'], 2: ['Python', 'scikit-learn', 'scipy', 'numpy', 'statsmodels', 'pandas'], 3: ['R', 'Python', 'statistics', 'regression', 'probability'], 4: ['machine learning', 'regression', 'decision trees', 'libsvm'], 5: ['Python', 'R', 'Java', 'C++', 'Haskell', 'programming languages'], 6: ['statistics', 'probability', 'mathematics', 'theory'], 7: ['machine learning', 'scikit-learn', 'Mahout', 'neural networks'], 8: ['neural networks', 'deep learning', 'Big Data', 'artificial intelligence'], 9: ['Hadoop', 'Java', 'MapReduce', 'Big Data']})\n",
      "defaultdict(<class 'list'>, {'Hadoop': [0, 9], 'Big Data': [0, 8, 9], 'HBase': [0, 1], 'Java': [0, 5, 9], 'Spark': [0], 'Storm': [0], 'Cassandra': [0, 1], 'NoSQL': [1], 'MongoDB': [1], 'Postgres': [1], 'Python': [2, 3, 5], 'scikit-learn': [2, 7], 'scipy': [2], 'numpy': [2], 'statsmodels': [2], 'pandas': [2], 'R': [3, 5], 'statistics': [3, 6], 'regression': [3, 4], 'probability': [3, 6], 'machine learning': [4, 7], 'decision trees': [4], 'libsvm': [4], 'C++': [5], 'Haskell': [5], 'programming languages': [5], 'mathematics': [6], 'theory': [6], 'Mahout': [7], 'neural networks': [7, 8], 'deep learning': [8], 'artificial intelligence': [8], 'MapReduce': [9]})\n"
     ]
    }
   ],
   "source": [
    "user_interest = defaultdict(list)\n",
    "interst_user = defaultdict(list)\n",
    "\n",
    "for i, j in interests:\n",
    "    user_interest[i].append(j)\n",
    "    interst_user[j].append(i)\n",
    "\n",
    "print(user_interest)\n",
    "print(interst_user)\n",
    "    "
   ]
  },
  {
   "cell_type": "code",
   "execution_count": 10,
   "metadata": {},
   "outputs": [
    {
     "data": {
      "text/plain": [
       "Counter({9: 3, 8: 1, 1: 2, 5: 1})"
      ]
     },
     "execution_count": 10,
     "metadata": {},
     "output_type": "execute_result"
    }
   ],
   "source": [
    "#a person showing no of common interest with user\n",
    "def common_interest(user):\n",
    "    \n",
    "    return Counter( j for i in user_interest[user]\n",
    "        for j in interst_user[i]\n",
    "            if user != j)\n",
    "\n",
    "common_interest(0)                "
   ]
  }
 ],
 "metadata": {
  "kernelspec": {
   "display_name": "Python 3",
   "language": "python",
   "name": "python3"
  },
  "language_info": {
   "codemirror_mode": {
    "name": "ipython",
    "version": 3
   },
   "file_extension": ".py",
   "mimetype": "text/x-python",
   "name": "python",
   "nbconvert_exporter": "python",
   "pygments_lexer": "ipython3",
   "version": "3.10.6"
  },
  "orig_nbformat": 4
 },
 "nbformat": 4,
 "nbformat_minor": 2
}
