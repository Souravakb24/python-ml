{
 "cells": [
  {
   "attachments": {},
   "cell_type": "markdown",
   "metadata": {},
   "source": [
    "Counters and default dict"
   ]
  },
  {
   "cell_type": "code",
   "execution_count": 15,
   "metadata": {},
   "outputs": [
    {
     "name": "stdout",
     "output_type": "stream",
     "text": [
      "Counter({'o': 3, 'l': 2, 'h': 1, 'e': 1})\n"
     ]
    }
   ],
   "source": [
    "from collections import Counter\n",
    "# counter always display in descending order\n",
    "\n",
    "print(Counter(\"hellooo\"))"
   ]
  },
  {
   "cell_type": "code",
   "execution_count": 16,
   "metadata": {},
   "outputs": [
    {
     "name": "stdout",
     "output_type": "stream",
     "text": [
      "Counter({'banana': 3, 'apple': 2, 'orange': 1, 'grape': 1})\n"
     ]
    }
   ],
   "source": [
    "from collections import Counter\n",
    "\n",
    "# Define a list of items\n",
    "my_list = ['apple', 'banana', 'apple', 'orange', 'banana', 'grape', 'banana']\n",
    "\n",
    "# Create a Counter object\n",
    "my_counter = Counter(my_list)\n",
    "\n",
    "# Print the resulting Counter object\n",
    "print(my_counter)  # Output: Counter({'banana': 3, 'apple': 2, 'orange': 1, 'grape': 1})\n"
   ]
  },
  {
   "cell_type": "code",
   "execution_count": 17,
   "metadata": {},
   "outputs": [
    {
     "data": {
      "text/plain": [
       "Counter({'i': 2, 'c': 3, 'e': 4})"
      ]
     },
     "execution_count": 17,
     "metadata": {},
     "output_type": "execute_result"
    }
   ],
   "source": [
    "Counter(i=2,c=3,e=4)"
   ]
  },
  {
   "cell_type": "code",
   "execution_count": 18,
   "metadata": {},
   "outputs": [
    {
     "name": "stdout",
     "output_type": "stream",
     "text": [
      "2\n",
      "[0, 2, 3]\n",
      "Not present\n"
     ]
    }
   ],
   "source": [
    "from collections import defaultdict\n",
    "d1 = defaultdict(lambda :2)\n",
    "print(d1[1])\n",
    "d2 =defaultdict(lambda : [0,2,3])\n",
    "print(d2[2])\n",
    "d3 = defaultdict(lambda : \"Not present\")\n",
    "print(d3[5])\n",
    "d4 = defaultdict(int)\n",
    "d5 = defaultdict(list)"
   ]
  },
  {
   "attachments": {},
   "cell_type": "markdown",
   "metadata": {},
   "source": [
    "Truthiness"
   ]
  },
  {
   "cell_type": "code",
   "execution_count": 19,
   "metadata": {},
   "outputs": [
    {
     "name": "stdout",
     "output_type": "stream",
     "text": [
      "False\n",
      "False\n",
      "False\n",
      "False\n",
      "False\n",
      "True\n",
      "True\n",
      "True\n",
      "True\n"
     ]
    }
   ],
   "source": [
    "# False values\n",
    "print(bool(False))  # Output: False\n",
    "print(bool(None))  # Output: False\n",
    "print(bool(0))  # Output: False\n",
    "print(bool(''))  # Output: False\n",
    "print(bool([]))  # Output: False\n",
    "\n",
    "# True values\n",
    "print(bool(True))  # Output: True\n",
    "print(bool(42))  # Output: True\n",
    "print(bool('hello'))  # Output: True\n",
    "print(bool([1, 2, 3]))  # Output: True\n"
   ]
  },
  {
   "cell_type": "code",
   "execution_count": 20,
   "metadata": {},
   "outputs": [
    {
     "name": "stdout",
     "output_type": "stream",
     "text": [
      "False\n",
      "True\n",
      "False\n",
      "True\n"
     ]
    },
    {
     "data": {
      "text/plain": [
       "'The all() function returns True if all the elements of the iterable are truthy,\\n     and False otherwise.\\n     \\n    The any() function, on the other hand, returns True if any of the elements of the iterable \\n    are truthy, and False otherwise. \\n'"
      ]
     },
     "execution_count": 20,
     "metadata": {},
     "output_type": "execute_result"
    }
   ],
   "source": [
    "my_list = [1, 'hello', True, 0, '', False]\n",
    "print(all(my_list))  # Output: False\n",
    "print(any(my_list))  # Output: True\n",
    "\n",
    "print(any([]))\n",
    "print(all([]))\n",
    "\n",
    "'''The all() function returns True if all the elements of the iterable are truthy,\n",
    "     and False otherwise.\n",
    "     \n",
    "    The any() function, on the other hand, returns True if any of the elements of the iterable \n",
    "    are truthy, and False otherwise. \n",
    "'''"
   ]
  },
  {
   "cell_type": "code",
   "execution_count": 56,
   "metadata": {},
   "outputs": [
    {
     "name": "stdout",
     "output_type": "stream",
     "text": [
      "True\n",
      "False\n",
      "True\n"
     ]
    }
   ],
   "source": [
    "A=5\n",
    "print(all([True,[1],A]))\n",
    "print(all([True,1,]))\n",
    "print(any([True,1,{}]))"
   ]
  },
  {
   "attachments": {},
   "cell_type": "markdown",
   "metadata": {},
   "source": [
    "Assert"
   ]
  },
  {
   "cell_type": "code",
   "execution_count": 21,
   "metadata": {},
   "outputs": [],
   "source": [
    "def smallest_item(xs):\n",
    "    return min(xs)\n",
    "assert smallest_item([10, 20, 5, 40]) == 5"
   ]
  },
  {
   "cell_type": "code",
   "execution_count": 22,
   "metadata": {},
   "outputs": [
    {
     "data": {
      "text/plain": [
       "5"
      ]
     },
     "execution_count": 22,
     "metadata": {},
     "output_type": "execute_result"
    }
   ],
   "source": [
    "def smallest_item(xs):\n",
    "    assert xs, \"empty list has no smallest item\"\n",
    "    return min(xs)\n",
    "smallest_item([10, 20, 5, 40])\n",
    "# smallest_item([])"
   ]
  },
  {
   "attachments": {},
   "cell_type": "markdown",
   "metadata": {},
   "source": [
    "Generators"
   ]
  },
  {
   "cell_type": "code",
   "execution_count": 23,
   "metadata": {},
   "outputs": [
    {
     "name": "stdout",
     "output_type": "stream",
     "text": [
      "i:0\n",
      "i:1\n",
      "i:2\n",
      "i:3\n",
      "i:4\n"
     ]
    }
   ],
   "source": [
    "def generate(n):\n",
    "    i=0\n",
    "    while i< n :\n",
    "        yield(i)\n",
    "        # print(\"HI\")\n",
    "        i+=1\n",
    "\n",
    "for i in generate(5):\n",
    "    print(f\"i:{i}\")\n",
    "    # print(i, end=\" \")\n",
    "    # print(\"HI\")\n",
    "    "
   ]
  },
  {
   "cell_type": "code",
   "execution_count": 24,
   "metadata": {},
   "outputs": [
    {
     "data": {
      "text/plain": [
       "[0, 2, 4, 6, 8, 10, 12, 14, 16, 18]"
      ]
     },
     "execution_count": 24,
     "metadata": {},
     "output_type": "execute_result"
    }
   ],
   "source": [
    "evens_below_20 = [i for i in generate(20) if\n",
    "i % 2 == 0]\n",
    "evens_below_20"
   ]
  },
  {
   "attachments": {},
   "cell_type": "markdown",
   "metadata": {},
   "source": [
    "Randomness"
   ]
  },
  {
   "cell_type": "code",
   "execution_count": 25,
   "metadata": {},
   "outputs": [
    {
     "name": "stdout",
     "output_type": "stream",
     "text": [
      "0.6574725026572553\n",
      "8\n",
      "5\n",
      "[23, 7, 15, 45, 8, 23, 68, 12, 6, 34]\n",
      "6\n",
      "[23, 15, 12]\n"
     ]
    }
   ],
   "source": [
    "import random\n",
    "print(random.random())\n",
    "print(random.randint(3,9)) # excluding 9  [x,y)\n",
    "print(random.randrange(10)) # random integers between 10 [0,10)\n",
    "a = [12,23,34,23,15,45,6,7,8,68]\n",
    "random.shuffle(a) #shuffle iterable objects\n",
    "print(a)\n",
    "print(random.choice(a)) # choose a random element from iterable obj\n",
    "print(random.sample(a,3)) #choose 3 random elements from iterable obj"
   ]
  },
  {
   "cell_type": "code",
   "execution_count": 26,
   "metadata": {},
   "outputs": [
    {
     "name": "stdout",
     "output_type": "stream",
     "text": [
      "0.13436424411240122\n",
      "0.4745706786885481\n",
      "0123456789\n",
      "0.13436424411240122\n",
      "0.4745706786885481\n"
     ]
    }
   ],
   "source": [
    "random.seed(1)\n",
    "print(random.random())\n",
    "random.seed(12)\n",
    "print(random.random())\n",
    "for i in range(10):\n",
    "    print(i, end=\"\")\n",
    "print()\n",
    "random.seed(1)\n",
    "print(random.random())\n",
    "random.seed(12)\n",
    "print(random.random())\n",
    "\n",
    "\n",
    "#seed remembers the next generated random number \n",
    "#whenever and where ever the seed no if called then the next random number will be the same\n",
    "# as the seed generated previously"
   ]
  },
  {
   "attachments": {},
   "cell_type": "markdown",
   "metadata": {},
   "source": [
    "ZIp and arguement unpacking"
   ]
  },
  {
   "cell_type": "code",
   "execution_count": 27,
   "metadata": {},
   "outputs": [
    {
     "name": "stdout",
     "output_type": "stream",
     "text": [
      "[(1, 'one'), (2, 'two'), (3, 'three')]\n"
     ]
    }
   ],
   "source": [
    "a = [1, 2, 3]\n",
    "b = ['one', 'two', 'three']\n",
    "zipped = zip(a, b)\n",
    "print(list(zipped))  # Output: [(1, 'one'), (2, 'two'), (3, 'three')]\n"
   ]
  },
  {
   "cell_type": "code",
   "execution_count": 36,
   "metadata": {},
   "outputs": [
    {
     "name": "stdout",
     "output_type": "stream",
     "text": [
      "(1, 2, 3)\n",
      "('one', 'two', 'three')\n"
     ]
    }
   ],
   "source": [
    "# zipped = [(1, 'one'), (2, 'two'), (3, 'three')]\n",
    "a, b = zip(*zipped) #unzip\n",
    "print(a)  # Output: (1, 2, 3)\n",
    "print(b)  # Output: ('one', 'two', 'three')\n"
   ]
  },
  {
   "attachments": {},
   "cell_type": "markdown",
   "metadata": {},
   "source": [
    "args kwags"
   ]
  },
  {
   "cell_type": "code",
   "execution_count": null,
   "metadata": {},
   "outputs": [
    {
     "name": "stdout",
     "output_type": "stream",
     "text": [
      "unnamed args: (1, 2)\n",
      "keyword args: {'key': 'word', 'key2': 'word2'}\n"
     ]
    }
   ],
   "source": [
    "def magic(*args, **kwargs):\n",
    "    print(\"unnamed args:\", args)\n",
    "    print(\"keyword args:\", kwargs)\n",
    "magic(1, 2, key=\"word\", key2=\"word2\")\n",
    "\n",
    "#args is a tuple\n",
    "#kwags is a dict"
   ]
  },
  {
   "cell_type": "code",
   "execution_count": null,
   "metadata": {},
   "outputs": [
    {
     "name": "stdout",
     "output_type": "stream",
     "text": [
      "6\n"
     ]
    }
   ],
   "source": [
    "def f2(x,y):\n",
    "    return x+y\n",
    "\n",
    "def double_correct(f):\n",
    "    def  g(*args, ** kwargs):\n",
    "        return 2* f(*args, **kwargs)\n",
    "\n",
    "    return g\n",
    "\n",
    "g = double_correct(f2)\n",
    "print(g(1,2))"
   ]
  },
  {
   "attachments": {},
   "cell_type": "markdown",
   "metadata": {},
   "source": [
    "Annotation"
   ]
  },
  {
   "cell_type": "code",
   "execution_count": null,
   "metadata": {},
   "outputs": [
    {
     "name": "stdout",
     "output_type": "stream",
     "text": [
      "5\n",
      "hire\n"
     ]
    }
   ],
   "source": [
    "def add(a:int=5 , b:int=4)-> int:\n",
    "    return a+b\n",
    "\n",
    "print(add(2,3))\n",
    "print(add(\"hi\",\"re\"))"
   ]
  },
  {
   "cell_type": "code",
   "execution_count": null,
   "metadata": {},
   "outputs": [
    {
     "data": {
      "text/plain": [
       "15"
      ]
     },
     "execution_count": 206,
     "metadata": {},
     "output_type": "execute_result"
    }
   ],
   "source": [
    "from typing import List\n",
    "def total(xs : List[int])-> int:\n",
    "    return sum(xs)\n",
    "total([1,2,3,4,5])"
   ]
  },
  {
   "cell_type": "code",
   "execution_count": null,
   "metadata": {},
   "outputs": [
    {
     "data": {
      "text/plain": [
       "'rocky, rocky'"
      ]
     },
     "execution_count": 208,
     "metadata": {},
     "output_type": "execute_result"
    }
   ],
   "source": [
    "from typing import Callable\n",
    "\n",
    "def twice(repeater:Callable[[str,int], str], s:str)->str:\n",
    "    return repeater(s,2)\n",
    "\n",
    "def comma_repeater(s:str, n:int)->str:\n",
    "    n_copies = [s for _ in range(n)]\n",
    "    return ', '.join(n_copies)\n",
    "\n",
    "twice(comma_repeater, \"rocky\")"
   ]
  },
  {
   "attachments": {},
   "cell_type": "markdown",
   "metadata": {},
   "source": [
    "anonymous function"
   ]
  },
  {
   "cell_type": "code",
   "execution_count": null,
   "metadata": {},
   "outputs": [
    {
     "name": "stdout",
     "output_type": "stream",
     "text": [
      "5\n",
      "[-1, -3, -4, 5, 6, 7, 9]\n",
      "['one', 'two', 'four', 'eight', 'three']\n"
     ]
    }
   ],
   "source": [
    "add_num = lambda x,y:x+y\n",
    "print(add_num(2,3))\n",
    "\n",
    "a = [-4,5,-3,6,7,9,-1]\n",
    "sorted_a = sorted(a, key=lambda x:abs(x))\n",
    "print(sorted_a)\n",
    "\n",
    "b = [\"one\",\"two\",\"eight\",\"three\",\"four\"]\n",
    "sorted_b = sorted(b, key=lambda x:len(x))\n",
    "print(sorted_b)"
   ]
  },
  {
   "attachments": {},
   "cell_type": "markdown",
   "metadata": {},
   "source": [
    "enumerate"
   ]
  },
  {
   "cell_type": "code",
   "execution_count": 41,
   "metadata": {},
   "outputs": [
    {
     "name": "stdout",
     "output_type": "stream",
     "text": [
      "[(0, 'a'), (1, 'b'), (2, 'c'), (3, 'd'), (4, 'e'), (5, 'f'), (6, 'g')]\n",
      "[(51, 'a'), (52, 'b'), (53, 'c'), (54, 'd'), (55, 'e'), (56, 'f'), (57, 'g')]\n"
     ]
    }
   ],
   "source": [
    "l = ['a','b','c','d','e','f','g']\n",
    "a = enumerate(l)\n",
    "print(list(a))\n",
    "\n",
    "b = enumerate(l,51)\n",
    "print(list(b))"
   ]
  },
  {
   "cell_type": "code",
   "execution_count": null,
   "metadata": {},
   "outputs": [
    {
     "name": "stdout",
     "output_type": "stream",
     "text": [
      "1\n",
      "65\n"
     ]
    }
   ],
   "source": [
    "print(str(1))\n",
    "print(ord('A'))"
   ]
  },
  {
   "cell_type": "code",
   "execution_count": null,
   "metadata": {},
   "outputs": [
    {
     "name": "stdout",
     "output_type": "stream",
     "text": [
      "[1, 2, 3, 4, 4, 5, 6]\n",
      "[1, 2, 3, 4, 4, 5, 6]\n",
      "[1, 2, 3, 4, 5, 6]\n",
      "[1, 2, 4, 5, 6]\n",
      "0 2\n",
      "[1, 2, 4, 5, 6, 7, 8, 9]\n",
      "[1, 2, 4, 5, 6, 7, 8, 9, (6, 12, 13)]\n",
      "[(6, 12, 13), 9, 8, 7, 6, 5, 4, 2, 1]\n"
     ]
    }
   ],
   "source": [
    "a = [1,2,3,4]\n",
    "b = [4,5,6]\n",
    "print(a+b)\n",
    "a.extend(b)\n",
    "print(a)\n",
    "a.remove(4)\n",
    "print(a)\n",
    "a.pop(2)\n",
    "print(a)\n",
    "print(b.index(4), b.index(6))\n",
    "\n",
    "a.extend((7,8,9))\n",
    "print(a)\n",
    "a.append((6,12,13))\n",
    "print(a)\n",
    "print(a[::-1]) # reverse order"
   ]
  },
  {
   "cell_type": "code",
   "execution_count": null,
   "metadata": {},
   "outputs": [],
   "source": []
  }
 ],
 "metadata": {
  "kernelspec": {
   "display_name": "Python 3",
   "language": "python",
   "name": "python3"
  },
  "language_info": {
   "codemirror_mode": {
    "name": "ipython",
    "version": 3
   },
   "file_extension": ".py",
   "mimetype": "text/x-python",
   "name": "python",
   "nbconvert_exporter": "python",
   "pygments_lexer": "ipython3",
   "version": "3.10.6"
  },
  "orig_nbformat": 4
 },
 "nbformat": 4,
 "nbformat_minor": 2
}
