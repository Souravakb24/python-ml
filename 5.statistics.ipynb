{
 "cells": [
  {
   "cell_type": "code",
   "execution_count": 2,
   "metadata": {},
   "outputs": [],
   "source": [
    "from typing import List\n",
    "#find mean\n",
    "def mean(a: List[float])->float:\n",
    "    return sum(a)/len(a)\n",
    "\n",
    "#find median\n",
    "def median_odd(a : List[float])->float:\n",
    "    return sorted(a)[len(a)//2]\n",
    "\n",
    "def median_even(a: List[float])-> float:\n",
    "    b = sorted(a)\n",
    "    med = len(a)//2\n",
    "    return (b[med-1] + b[med])/2\n",
    "\n",
    "def median(v : List[float])->float:\n",
    "    return median_even(v) if len(v)%2 == 0 else median_odd(v)\n",
    "\n",
    "#find mode\n",
    "from collections import Counter\n",
    "def mode(v : List[float])-> float:\n",
    "    counts = Counter(v)\n",
    "    max_val = max(counts.values())\n",
    "    return [x for x,count in counts.items() if count == max_val]\n"
   ]
  },
  {
   "cell_type": "code",
   "execution_count": 3,
   "metadata": {},
   "outputs": [],
   "source": [
    "# find quantile\n",
    "def quantile(xs: List[float], p:float)->float:\n",
    "    p_index = int(p*len(xs))\n",
    "    return sorted(xs)[p_index]"
   ]
  },
  {
   "cell_type": "code",
   "execution_count": null,
   "metadata": {},
   "outputs": [],
   "source": [
    "# find variance\n",
    "def de_mean(xs: List[float])->list[float]:\n",
    "    x_bar = mean(xs)\n",
    "    return [x - x_bar for x in xs]\n",
    "\n",
    "def variance(xs : List[float])->float:\n",
    "    assert len(xs)\n",
    "    dev = de_mean(xs)\n",
    "    return sum_of_sqaures(devaiations)/(n-1)"
   ]
  }
 ],
 "metadata": {
  "kernelspec": {
   "display_name": "Python 3",
   "language": "python",
   "name": "python3"
  },
  "language_info": {
   "codemirror_mode": {
    "name": "ipython",
    "version": 3
   },
   "file_extension": ".py",
   "mimetype": "text/x-python",
   "name": "python",
   "nbconvert_exporter": "python",
   "pygments_lexer": "ipython3",
   "version": "3.10.6"
  },
  "orig_nbformat": 4
 },
 "nbformat": 4,
 "nbformat_minor": 2
}
