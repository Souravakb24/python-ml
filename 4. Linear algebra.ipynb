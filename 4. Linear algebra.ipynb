{
 "cells": [
  {
   "cell_type": "code",
   "execution_count": 6,
   "metadata": {},
   "outputs": [],
   "source": [
    "from typing import List\n",
    "Vector = List[float]"
   ]
  },
  {
   "attachments": {},
   "cell_type": "markdown",
   "metadata": {},
   "source": [
    "Arithimetic operation in Vectors\n",
    ", Vectors are list[float]"
   ]
  },
  {
   "cell_type": "code",
   "execution_count": 4,
   "metadata": {},
   "outputs": [
    {
     "name": "stdout",
     "output_type": "stream",
     "text": [
      "[4, 4, 4]\n",
      "[1, 1, 1]\n"
     ]
    }
   ],
   "source": [
    "def add(v:Vector, w:Vector)-> Vector:\n",
    "    assert len(v) == len(w)\n",
    "    return [vi+wi for vi,wi in zip(v,w)]\n",
    "\n",
    "def subtract(v:Vector, w:Vector)-> Vector:\n",
    "    assert len(v) == len(w)\n",
    "    return [vi-wi for vi,wi in zip(v,w)]\n",
    "\n",
    "print(add([1,2,3],[3,2,1]))\n",
    "print(subtract([4,3,2],[3,2,1]))"
   ]
  },
  {
   "cell_type": "code",
   "execution_count": 30,
   "metadata": {},
   "outputs": [
    {
     "name": "stdout",
     "output_type": "stream",
     "text": [
      "[[1, 2, 3], [4, 5, 6], [1, 1, 1]]\n"
     ]
    },
    {
     "data": {
      "text/plain": [
       "[6, 8, 10]"
      ]
     },
     "execution_count": 30,
     "metadata": {},
     "output_type": "execute_result"
    }
   ],
   "source": [
    "#sum of list[float] in list[list[float]]\n",
    "def vector_sum(vectors:List[Vector])->Vector:\n",
    "    assert vectors\n",
    "    no_elements = len(vectors[0])\n",
    "    assert all(len(v)==no_elements for v in vectors)\n",
    "\n",
    "    return [sum(vec[i] for vec in vectors) for i in range(no_elements)]\n",
    "\n",
    "a = [[1,2,3],[4,5,6],[1,1,1]]\n",
    "print(a)\n",
    "vector_sum(a)"
   ]
  },
  {
   "cell_type": "code",
   "execution_count": 33,
   "metadata": {},
   "outputs": [
    {
     "data": {
      "text/plain": [
       "[6, 8, 10]"
      ]
     },
     "execution_count": 33,
     "metadata": {},
     "output_type": "execute_result"
    }
   ],
   "source": [
    "a = [[1,2,3],[4,5,6],[1,1,1]]\n",
    "def vector_sum_2(a):\n",
    "    l = []\n",
    "    n = len(a[0])\n",
    "    for i in range(n):\n",
    "        s = 0\n",
    "        for j in a:\n",
    "            s += j[i]\n",
    "        l.append(s)\n",
    "    return l\n",
    "\n",
    "vector_sum_2(a)      "
   ]
  },
  {
   "cell_type": "code",
   "execution_count": 27,
   "metadata": {},
   "outputs": [
    {
     "data": {
      "text/plain": [
       "[3, 6, 9, 12]"
      ]
     },
     "execution_count": 27,
     "metadata": {},
     "output_type": "execute_result"
    }
   ],
   "source": [
    "#multiply a scaler to the list[float]\n",
    "def scaler_multiply(c:float, v:Vector)->Vector:\n",
    "    return [c*vi for vi in v]\n",
    "\n",
    "scaler_multiply(3,[1,2,3,4])"
   ]
  },
  {
   "cell_type": "code",
   "execution_count": 26,
   "metadata": {},
   "outputs": [
    {
     "data": {
      "text/plain": [
       "[2.0, 2.6666666666666665, 3.333333333333333]"
      ]
     },
     "execution_count": 26,
     "metadata": {},
     "output_type": "execute_result"
    }
   ],
   "source": [
    "#component wise mean\n",
    "def vector_mean(vectors : List[Vector])-> Vector:\n",
    "    n = len(vectors)\n",
    "    return scaler_multiply(1/n,vector_sum(vectors))\n",
    "\n",
    "a = [[1,2,3],[4,5,6],[1,1,1]]\n",
    "vector_mean(a)"
   ]
  },
  {
   "cell_type": "code",
   "execution_count": 35,
   "metadata": {},
   "outputs": [
    {
     "data": {
      "text/plain": [
       "44"
      ]
     },
     "execution_count": 35,
     "metadata": {},
     "output_type": "execute_result"
    }
   ],
   "source": [
    "#dot product\n",
    "\n",
    "def dot(v:Vector, w:Vector)->Vector:\n",
    "    assert len(v) == len(w)\n",
    "    return sum(vi * wi for vi,wi in zip(v,w))\n",
    "\n",
    "dot([1,2,3] , [6,7,8])"
   ]
  },
  {
   "cell_type": "code",
   "execution_count": 38,
   "metadata": {},
   "outputs": [
    {
     "data": {
      "text/plain": [
       "3.7416573867739413"
      ]
     },
     "execution_count": 38,
     "metadata": {},
     "output_type": "execute_result"
    }
   ],
   "source": [
    "# vector’s sum of squares and magnitude\n",
    "# sqrt(v dot v)\n",
    "def sum_of_squares(v: Vector)->float:\n",
    "    return dot(v,v)\n",
    "\n",
    "import math\n",
    "def magnitude(v:Vector)->float:\n",
    "    return math.sqrt(sum_of_squares(v))\n",
    "\n",
    "magnitude([1,2,3])"
   ]
  },
  {
   "cell_type": "code",
   "execution_count": 39,
   "metadata": {},
   "outputs": [
    {
     "data": {
      "text/plain": [
       "5.196152422706632"
      ]
     },
     "execution_count": 39,
     "metadata": {},
     "output_type": "execute_result"
    }
   ],
   "source": [
    "#distance bet 2 vectors\n",
    "# sqrt((v1 − w1)^2 + . . . + (vn − wn)^2)\n",
    "\n",
    "def squared_distance(v: Vector, w: Vector) -> float:\n",
    "    return sum_of_squares(subtract(v, w))\n",
    "\n",
    "def distance(v: Vector, w: Vector) -> float:\n",
    "    return math.sqrt(squared_distance(v, w))\n",
    "\n",
    "distance([1,2,3],[4,5,6])"
   ]
  },
  {
   "cell_type": "code",
   "execution_count": 44,
   "metadata": {},
   "outputs": [
    {
     "name": "stdout",
     "output_type": "stream",
     "text": [
      "[7, 8, 9]\n",
      "[3, 6, 9]\n"
     ]
    }
   ],
   "source": [
    "#get no of rows in matrix\n",
    "Matrix = Vector\n",
    "def get_row(A: Matrix, i: int) -> Vector:\n",
    "    return A[i]\n",
    "def get_column(A: Matrix, j: int) -> Vector:    \n",
    "    return [A_i[j] for A_i in A]\n",
    "\n",
    "a = [[1,2,3],[4,5,6],[7,8,9]]\n",
    "print(get_row(a,2))\n",
    "print(get_column(a,2))"
   ]
  },
  {
   "cell_type": "code",
   "execution_count": 52,
   "metadata": {},
   "outputs": [
    {
     "data": {
      "text/plain": [
       "[[1, 0, 0, 0, 0],\n",
       " [0, 1, 0, 0, 0],\n",
       " [0, 0, 1, 0, 0],\n",
       " [0, 0, 0, 1, 0],\n",
       " [0, 0, 0, 0, 1]]"
      ]
     },
     "execution_count": 52,
     "metadata": {},
     "output_type": "execute_result"
    }
   ],
   "source": [
    "from typing import Callable\n",
    "def make_matrix(num_rows: int,num_cols: int, entry_fn: Callable[[int, int], float]) -> Matrix:\n",
    "    return [ [entry_fn(i, j)for j in range(num_cols)]for i in range(num_rows)]\n",
    "\n",
    "\n",
    "def identity_matrix(n: int) -> Matrix:\n",
    "    return make_matrix(n, n, lambda i, j: 1 if i == j else 0)\n",
    "\n",
    "identity_matrix(5)"
   ]
  },
  {
   "cell_type": "code",
   "execution_count": null,
   "metadata": {},
   "outputs": [],
   "source": []
  }
 ],
 "metadata": {
  "kernelspec": {
   "display_name": "Python 3",
   "language": "python",
   "name": "python3"
  },
  "language_info": {
   "codemirror_mode": {
    "name": "ipython",
    "version": 3
   },
   "file_extension": ".py",
   "mimetype": "text/x-python",
   "name": "python",
   "nbconvert_exporter": "python",
   "pygments_lexer": "ipython3",
   "version": "3.10.6"
  },
  "orig_nbformat": 4
 },
 "nbformat": 4,
 "nbformat_minor": 2
}
